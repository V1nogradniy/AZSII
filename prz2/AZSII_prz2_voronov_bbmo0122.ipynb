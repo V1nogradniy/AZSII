{
  "nbformat": 4,
  "nbformat_minor": 0,
  "metadata": {
    "colab": {
      "provenance": [],
      "gpuType": "T4"
    },
    "kernelspec": {
      "name": "python3",
      "display_name": "Python 3"
    },
    "language_info": {
      "name": "python"
    },
    "accelerator": "GPU"
  },
  "cells": [
    {
      "cell_type": "code",
      "execution_count": 1,
      "metadata": {
        "colab": {
          "base_uri": "https://localhost:8080/"
        },
        "id": "4Va9USFidh9O",
        "outputId": "db3e5093-77a1-4b1d-c2cb-ea56de8b5de8"
      },
      "outputs": [
        {
          "output_type": "stream",
          "name": "stdout",
          "text": [
            "Cloning into 'EEL6812_DeepFool_Project'...\n",
            "remote: Enumerating objects: 96, done.\u001b[K\n",
            "remote: Counting objects: 100% (3/3), done.\u001b[K\n",
            "remote: Compressing objects: 100% (2/2), done.\u001b[K\n",
            "remote: Total 96 (delta 2), reused 1 (delta 1), pack-reused 93\u001b[K\n",
            "Receiving objects: 100% (96/96), 33.99 MiB | 28.12 MiB/s, done.\n",
            "Resolving deltas: 100% (27/27), done.\n"
          ]
        }
      ],
      "source": [
        "!git clone https://github.com/ewatson2/EEL6812_DeepFool_Project"
      ]
    },
    {
      "cell_type": "code",
      "source": [
        "%cd EEL6812_DeepFool_Project"
      ],
      "metadata": {
        "id": "C_TGDSs4fSXP",
        "colab": {
          "base_uri": "https://localhost:8080/"
        },
        "outputId": "c94cb0c9-be0c-441f-bc3f-0015b9768671"
      },
      "execution_count": 5,
      "outputs": [
        {
          "output_type": "stream",
          "name": "stdout",
          "text": [
            "/content/EEL6812_DeepFool_Project\n"
          ]
        }
      ]
    },
    {
      "cell_type": "code",
      "source": [
        "import numpy as np\n",
        "import json\n",
        "import torch\n",
        "from torch.utils.data import DataLoader, random_split\n",
        "from torchvision import datasets, models\n",
        "from torchvision.transforms import transforms"
      ],
      "metadata": {
        "id": "lr4X1x7nfpy5"
      },
      "execution_count": 6,
      "outputs": []
    },
    {
      "cell_type": "code",
      "source": [
        "from models.project_models import FC_500_150, LeNet_CIFAR, LeNet_MNIST, Net\n",
        "from utils.project_utils import get_clip_bounds, evaluate_attack, display_attack"
      ],
      "metadata": {
        "id": "jDWDjSkPf3Ut"
      },
      "execution_count": 7,
      "outputs": []
    },
    {
      "cell_type": "markdown",
      "source": [
        "![scr1.png](data:image/png;base64,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)"
      ],
      "metadata": {
        "id": "SQTVlhbjgvfM"
      }
    },
    {
      "cell_type": "markdown",
      "source": [
        "Для rand_seed = порядковый номер студента в таблице (16-1 за шапку таблицы = 15)"
      ],
      "metadata": {
        "id": "h-E_zm5Nhngt"
      }
    },
    {
      "cell_type": "code",
      "source": [
        "rand_seed = 15"
      ],
      "metadata": {
        "id": "WiT0XcDAf-o2"
      },
      "execution_count": 8,
      "outputs": []
    },
    {
      "cell_type": "code",
      "source": [
        "# для numpy\n",
        "np.random.seed(rand_seed)\n",
        "# для torch\n",
        "torch.manual_seed(rand_seed)"
      ],
      "metadata": {
        "colab": {
          "base_uri": "https://localhost:8080/"
        },
        "id": "jGUP0oJbh7ty",
        "outputId": "fc7bd3b3-e1e3-41a2-a3bc-4e976f0fe4b8"
      },
      "execution_count": 9,
      "outputs": [
        {
          "output_type": "execute_result",
          "data": {
            "text/plain": [
              "<torch._C.Generator at 0x7bed99bcc8f0>"
            ]
          },
          "metadata": {},
          "execution_count": 9
        }
      ]
    },
    {
      "cell_type": "markdown",
      "source": [
        "Среда выполнения сменяна на T4 GPU."
      ],
      "metadata": {
        "id": "argl8xc8i0Ks"
      }
    },
    {
      "cell_type": "code",
      "source": [
        "#Загрузка датасета MNIST\n",
        "mnist_mean = 0.5\n",
        "mnist_std = 0.5\n",
        "mnist_dim = 28\n",
        "\n",
        "mnist_min, mnist_max = get_clip_bounds(mnist_mean, mnist_std, mnist_dim)\n",
        "\n",
        "device = torch.device('cuda' if torch.cuda.is_available() else 'cpu')\n",
        "mnist_min = mnist_min.to(device)\n",
        "mnist_max = mnist_max.to(device)\n",
        "\n",
        "mnist_tf = transforms.Compose([\n",
        "    transforms.ToTensor(),\n",
        "    transforms.Normalize(mean=mnist_mean, std=mnist_std)\n",
        "])\n",
        "\n",
        "mnist_tf_train = transforms.Compose([\n",
        "    transforms.RandomHorizontalFlip(),\n",
        "    transforms.ToTensor(),\n",
        "    transforms.Normalize(mean=mnist_mean, std=mnist_std)\n",
        "])\n",
        "\n",
        "mnist_tf_inv = transforms.Compose([\n",
        "    transforms.Normalize(mean=0.0, std=1.0 / mnist_std),\n",
        "    transforms.Normalize(mean=-mnist_mean, std=1.0)\n",
        "])\n",
        "\n",
        "mnist_temp = datasets.MNIST(root='datasets/mnist', train=True, download=True, transform=mnist_tf_train)\n",
        "mnist_train, mnist_val = random_split(mnist_temp, [50000, 10000])\n",
        "\n",
        "mnist_test = datasets.MNIST(root='datasets/mnist', train=False, download=True, transform=mnist_tf)"
      ],
      "metadata": {
        "id": "edRPC1ctiMft",
        "colab": {
          "base_uri": "https://localhost:8080/"
        },
        "outputId": "3444eafd-c744-4d48-a236-75bfd1ff6f42"
      },
      "execution_count": 10,
      "outputs": [
        {
          "output_type": "stream",
          "name": "stdout",
          "text": [
            "Downloading http://yann.lecun.com/exdb/mnist/train-images-idx3-ubyte.gz\n",
            "Downloading http://yann.lecun.com/exdb/mnist/train-images-idx3-ubyte.gz to datasets/mnist/MNIST/raw/train-images-idx3-ubyte.gz\n"
          ]
        },
        {
          "output_type": "stream",
          "name": "stderr",
          "text": [
            "100%|██████████| 9912422/9912422 [00:00<00:00, 135064570.79it/s]\n"
          ]
        },
        {
          "output_type": "stream",
          "name": "stdout",
          "text": [
            "Extracting datasets/mnist/MNIST/raw/train-images-idx3-ubyte.gz to datasets/mnist/MNIST/raw\n",
            "\n",
            "Downloading http://yann.lecun.com/exdb/mnist/train-labels-idx1-ubyte.gz\n",
            "Downloading http://yann.lecun.com/exdb/mnist/train-labels-idx1-ubyte.gz to datasets/mnist/MNIST/raw/train-labels-idx1-ubyte.gz\n"
          ]
        },
        {
          "output_type": "stream",
          "name": "stderr",
          "text": [
            "100%|██████████| 28881/28881 [00:00<00:00, 23677813.49it/s]\n"
          ]
        },
        {
          "output_type": "stream",
          "name": "stdout",
          "text": [
            "Extracting datasets/mnist/MNIST/raw/train-labels-idx1-ubyte.gz to datasets/mnist/MNIST/raw\n",
            "\n",
            "Downloading http://yann.lecun.com/exdb/mnist/t10k-images-idx3-ubyte.gz\n",
            "Downloading http://yann.lecun.com/exdb/mnist/t10k-images-idx3-ubyte.gz to datasets/mnist/MNIST/raw/t10k-images-idx3-ubyte.gz\n"
          ]
        },
        {
          "output_type": "stream",
          "name": "stderr",
          "text": [
            "100%|██████████| 1648877/1648877 [00:00<00:00, 37421224.79it/s]\n"
          ]
        },
        {
          "output_type": "stream",
          "name": "stdout",
          "text": [
            "Extracting datasets/mnist/MNIST/raw/t10k-images-idx3-ubyte.gz to datasets/mnist/MNIST/raw\n",
            "\n",
            "Downloading http://yann.lecun.com/exdb/mnist/t10k-labels-idx1-ubyte.gz\n",
            "Downloading http://yann.lecun.com/exdb/mnist/t10k-labels-idx1-ubyte.gz to datasets/mnist/MNIST/raw/t10k-labels-idx1-ubyte.gz\n"
          ]
        },
        {
          "output_type": "stream",
          "name": "stderr",
          "text": [
            "100%|██████████| 4542/4542 [00:00<00:00, 7372495.65it/s]\n"
          ]
        },
        {
          "output_type": "stream",
          "name": "stdout",
          "text": [
            "Extracting datasets/mnist/MNIST/raw/t10k-labels-idx1-ubyte.gz to datasets/mnist/MNIST/raw\n",
            "\n"
          ]
        }
      ]
    },
    {
      "cell_type": "code",
      "source": [
        "# Загрузка датасета CIFAR-10\n",
        "cifar_mean = [0.491, 0.482, 0.447]\n",
        "cifar_std = [0.202, 0.199, 0.201]\n",
        "cifar_dim = 32\n",
        "\n",
        "cifar_min, cifar_max = get_clip_bounds(cifar_mean, cifar_std, cifar_dim)\n",
        "\n",
        "device = torch.device('cuda' if torch.cuda.is_available() else 'cpu')\n",
        "cifar_min = cifar_min.to(device)\n",
        "cifar_max = cifar_max.to(device)\n",
        "\n",
        "cifar_tf = transforms.Compose([\n",
        "    transforms.ToTensor(),\n",
        "    transforms.Normalize(mean=cifar_mean, std=cifar_std)\n",
        "])\n",
        "\n",
        "cifar_tf_train = transforms.Compose([\n",
        "    transforms.RandomCrop(size=cifar_dim, padding=4),\n",
        "    transforms.RandomHorizontalFlip(),\n",
        "    transforms.ToTensor(),\n",
        "    transforms.Normalize(mean=cifar_mean, std=cifar_std)\n",
        "])\n",
        "\n",
        "cifar_tf_inv = transforms.Compose([ transforms.Normalize( mean=[0.0, 0.0, 0.0], std=np.divide(1.0, cifar_std)), transforms.Normalize( mean=np.multiply(-1.0, cifar_mean), std=[1.0, 1.0, 1.0])])\n",
        "\n",
        "cifar_temp = datasets.CIFAR10(root='datasets/cifar-10', train=True, download=True, transform=cifar_tf_train)\n",
        "cifar_train, cifar_val = random_split(cifar_temp, [40000, 10000])\n",
        "\n",
        "cifar_test = datasets.CIFAR10(root='datasets/cifar-10', train=False, download=True, transform=cifar_tf)\n",
        "\n",
        "cifar_classes = ['airplane', 'automobile', 'bird', 'cat', 'deer', 'dog', 'frog', 'horse', 'ship', 'truck']"
      ],
      "metadata": {
        "colab": {
          "base_uri": "https://localhost:8080/"
        },
        "id": "a9n9YI81jT6C",
        "outputId": "498138b1-2dcd-4422-a58f-cdfbcfaeed95"
      },
      "execution_count": 11,
      "outputs": [
        {
          "output_type": "stream",
          "name": "stdout",
          "text": [
            "Downloading https://www.cs.toronto.edu/~kriz/cifar-10-python.tar.gz to datasets/cifar-10/cifar-10-python.tar.gz\n"
          ]
        },
        {
          "output_type": "stream",
          "name": "stderr",
          "text": [
            "100%|██████████| 170498071/170498071 [00:05<00:00, 31565384.98it/s]\n"
          ]
        },
        {
          "output_type": "stream",
          "name": "stdout",
          "text": [
            "Extracting datasets/cifar-10/cifar-10-python.tar.gz to datasets/cifar-10\n",
            "Files already downloaded and verified\n"
          ]
        }
      ]
    },
    {
      "cell_type": "code",
      "source": [
        "# настройка и загрузка DataLoader\n",
        "batch_size = 64\n",
        "workers = 4\n",
        "\n",
        "mnist_loader_train = DataLoader(mnist_train, batch_size=batch_size, shuffle=True, num_workers=workers)\n",
        "mnist_loader_val = DataLoader(mnist_val, batch_size=batch_size, shuffle=False, num_workers=workers)\n",
        "mnist_loader_test = DataLoader(mnist_test, batch_size=batch_size, shuffle=False, num_workers=workers)\n",
        "\n",
        "cifar_loader_train = DataLoader(cifar_train, batch_size=batch_size, shuffle=True, num_workers=workers)\n",
        "cifar_loader_val = DataLoader(cifar_val, batch_size=batch_size, shuffle=False, num_workers=workers)\n",
        "cifar_loader_test = DataLoader(cifar_test, batch_size=batch_size, shuffle=False, num_workers=workers)"
      ],
      "metadata": {
        "colab": {
          "base_uri": "https://localhost:8080/"
        },
        "id": "eyb9m09gkXdR",
        "outputId": "890eb220-f2dc-48bd-a2f5-3e6a0b5721b5"
      },
      "execution_count": 12,
      "outputs": [
        {
          "output_type": "stream",
          "name": "stderr",
          "text": [
            "/usr/local/lib/python3.10/dist-packages/torch/utils/data/dataloader.py:560: UserWarning: This DataLoader will create 4 worker processes in total. Our suggested max number of worker in current system is 2, which is smaller than what this DataLoader is going to create. Please be aware that excessive worker creation might get DataLoader running slow or even freeze, lower the worker number to avoid potential slowness/freeze if necessary.\n",
            "  warnings.warn(_create_warning_msg(\n"
          ]
        }
      ]
    },
    {
      "cell_type": "code",
      "source": [
        "# Загрузка и оценка стойкости модели LeNet к FGSM и DeepFool атакам\n",
        "fgsm_eps = 0.6\n",
        "\n",
        "model = LeNet_MNIST().to(device)\n",
        "model.load_state_dict(torch.load('weights/clean/mnist_lenet.pth', map_location=torch.device('cpu')))\n",
        "\n",
        "evaluate_attack('mnist_lenet_fgsm.csv', 'results', device, model, mnist_loader_test, mnist_min, mnist_max,\n",
        "fgsm_eps, is_fgsm=True)\n",
        "\n",
        "print('')\n",
        "\n",
        "deep_args = [64, 10, 0.02, 100]\n",
        "\n",
        "evaluate_attack('mnist_lenet_deepfool.csv', 'results', device, model,\n",
        "mnist_loader_test, mnist_min, mnist_max, deep_args, is_fgsm=False)\n",
        "\n",
        "if device.type == 'cuda': torch.cuda.empty_cache()"
      ],
      "metadata": {
        "colab": {
          "base_uri": "https://localhost:8080/"
        },
        "id": "fthASkDmkswF",
        "outputId": "ef101a8e-3255-4e97-e8d5-eeae811bf41e"
      },
      "execution_count": 13,
      "outputs": [
        {
          "output_type": "stream",
          "name": "stdout",
          "text": [
            "FGSM Test Error : 87.89%\n",
            "FGSM Robustness : 4.58e-01\n",
            "FGSM Time (All Images) : 0.29 s\n",
            "FGSM Time (Per Image) : 28.86 us\n",
            "\n",
            "DeepFool Test Error : 98.74%\n",
            "DeepFool Robustness : 9.64e-02\n",
            "DeepFool Time (All Images) : 193.32 s\n",
            "DeepFool Time (Per Image) : 19.33 ms\n"
          ]
        }
      ]
    },
    {
      "cell_type": "code",
      "source": [
        "# загрузка и оценка стойкости модели FC к FGSM и DeepFool атакам\n",
        "fgsm_eps = 0.2\n",
        "\n",
        "model = FC_500_150().to(device)\n",
        "model.load_state_dict(torch.load('weights/clean/mnist_fc.pth', map_location=device))\n",
        "\n",
        "evaluate_attack('mnist_fc_fgsm.csv', 'results', device, model, mnist_loader_test, mnist_min, mnist_max, fgsm_eps, is_fgsm=True)\n",
        "\n",
        "print('')\n",
        "\n",
        "deep_args = [64, 10, 0.02, 100]\n",
        "\n",
        "evaluate_attack('mnist_fc_deepfool.csv', 'results', device, model, mnist_loader_test, mnist_min, mnist_max, deep_args, is_fgsm=False)\n",
        "\n",
        "if device.type == 'cuda': torch.cuda.empty_cache()"
      ],
      "metadata": {
        "colab": {
          "base_uri": "https://localhost:8080/"
        },
        "id": "yr98KmTtnFpS",
        "outputId": "46512e14-a76c-4be7-d762-77e638ce60f4"
      },
      "execution_count": 14,
      "outputs": [
        {
          "output_type": "stream",
          "name": "stdout",
          "text": [
            "FGSM Test Error : 87.08%\n",
            "FGSM Robustness : 1.56e-01\n",
            "FGSM Time (All Images) : 0.15 s\n",
            "FGSM Time (Per Image) : 14.99 us\n",
            "\n",
            "DeepFool Test Error : 97.92%\n",
            "DeepFool Robustness : 6.78e-02\n",
            "DeepFool Time (All Images) : 141.81 s\n",
            "DeepFool Time (Per Image) : 14.18 ms\n"
          ]
        }
      ]
    }
  ]
}